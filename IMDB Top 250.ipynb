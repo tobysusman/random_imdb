{
 "metadata": {
  "language_info": {
   "codemirror_mode": {
    "name": "ipython",
    "version": 3
   },
   "file_extension": ".py",
   "mimetype": "text/x-python",
   "name": "python",
   "nbconvert_exporter": "python",
   "pygments_lexer": "ipython3",
   "version": "3.8.6-final"
  },
  "orig_nbformat": 2,
  "kernelspec": {
   "name": "python3",
   "display_name": "Python 3.8.6 64-bit",
   "metadata": {
    "interpreter": {
     "hash": "d144fa90d4a329fcb5c3aa323307d0eb0945b850553210817c12573cc078f651"
    }
   }
  }
 },
 "nbformat": 4,
 "nbformat_minor": 2,
 "cells": [
  {
   "cell_type": "code",
   "execution_count": 2,
   "metadata": {},
   "outputs": [],
   "source": [
    "from bs4 import BeautifulSoup\n",
    "import requests\n",
    "import pandas as pd\n",
    "import matplotlib.pyplot as plt\n",
    "import random as random"
   ]
  },
  {
   "cell_type": "code",
   "execution_count": 9,
   "metadata": {},
   "outputs": [
    {
     "output_type": "stream",
     "name": "stdout",
     "text": [
      "Hacksaw Ridge \nYear:  2016\nRating:  8.1/10 \nDirector:  Mel Gibson \nStars:  Andrew Garfield, Sam Worthington, Luke Bracey \nCharacters:  Desmond Doss, Teach, James Pinnick\n"
     ]
    }
   ],
   "source": [
    "url = 'https://www.imdb.com/chart/top/?ref_=nv_mv_250'\n",
    "response = requests.get(url)\n",
    "soup = BeautifulSoup(response.text, 'html.parser')\n",
    "listing = soup.find_all('td', class_ = 'titleColumn')\n",
    "movies = []\n",
    "urls = []\n",
    "for listin in listing:\n",
    "    movies.append(listin.text)\n",
    "    url_extension  = listin.find('a', href=True)['href']\n",
    "    urls.append(url_extension)\n",
    "    # print(url_extension)\n",
    "\n",
    "rand_number = random.randint(0,len(movies)-1)\n",
    "\n",
    "chosen_url_base = urls[rand_number]\n",
    "chosen_url = 'https://www.imdb.com' + chosen_url_base\n",
    "response2 = requests.get(chosen_url)\n",
    "soup2 = BeautifulSoup(response2.text, 'html.parser')\n",
    "\n",
    "name = soup2.find('h1').text.split('(')[0]\n",
    "year = soup2.find('span', id = 'titleYear').text[1:-1]\n",
    "rating = soup2.find('div', class_ = 'ratingValue').text.replace('\\n', '')\n",
    "directors = soup2.find_all('div', class_ = 'credit_summary_item')[0].text.split(':')[1].replace('\\n', '')\n",
    "stars = soup2.find_all('div', class_ = 'credit_summary_item')[2].text.split(':')[1].split('|')[0].replace('\\n', '')\n",
    "\n",
    "characters = soup2.find_all('td', class_ = 'character')\n",
    "list_of_characters = []\n",
    "for character in characters:\n",
    "    list_of_characters.append(character.text.replace('\\n',''))\n",
    "top_three_characters = list_of_characters[:3]\n",
    "main_characters = ', '.join(top_three_characters)\n",
    "print(name)\n",
    "print('Year: ', year)\n",
    "print('Rating: ', rating)\n",
    "print('Director: ', directors)\n",
    "print('Stars: ', stars)\n",
    "print('Characters: ', main_characters)\n"
   ]
  }
 ]
}